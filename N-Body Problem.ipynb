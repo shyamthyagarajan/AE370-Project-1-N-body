{
 "cells": [
  {
   "cell_type": "code",
   "execution_count": 1,
   "metadata": {},
   "outputs": [],
   "source": [
    "import numpy as np\n",
    "import matplotlib.pyplot as plt\n",
    "\n",
    "G = 6.6743E-11"
   ]
  },
  {
   "cell_type": "code",
   "execution_count": 2,
   "metadata": {},
   "outputs": [],
   "source": [
    "def findAcceleration(N, r, m):\n",
    "    a = np.zeros((N, 3))\n",
    "    for i in range(len(m)):\n",
    "        for j in range(N):\n",
    "            if (i != j):\n",
    "                a[i] = G*m[i]*m[j]*(r[j] - r[i]) / np.linalg.norm(r[j] - r[i])**3\n",
    "    return a\n",
    "\n",
    "def f_true(r, v, m, delta_t):\n",
    "    #need to add in rk4 steps\n",
    "    N = 3\n",
    "    v += findAcceleration(N, r, m) * delta_t\n",
    "    r += v * delta_t\n",
    "    u_dot = np.array([r[0], r[1], r[2], v[0], v[1], v[2]])\n",
    "    return u_dot\n",
    "\n",
    "def RK4(u_k, delta_t, t):\n",
    "    k1 = f_true(u_k, t)\n",
    "    k2 = f_true(u_k + 0.5*delta_t*k1, t + 0.5*delta_t)\n",
    "    k3 = f_true(u_k + 0.5*delta_t*k2, t + 0.5*delta_t)\n",
    "    k4 = f_true(u_k + delta_t*k3, t + delta_t)\n",
    "    return u_k + (delta_t / 6) * (k1 + 2*k2 + 2*k3 + k4)\n",
    "\n",
    "m_vec = np.array([3., 1, 2]) #sample mass value array\n",
    "r_vec = np.array([[0., 0, 0], [1, 1, 1], [2, 2, 3]]) #sample positions value array\n",
    "v_vec = np.array([[4., 1, 2], [6, 2, 3], [3, 5, 2]]) #sample velocities value array\n",
    "N_body = 3 #sample N-body number"
   ]
  },
  {
   "cell_type": "code",
   "execution_count": 3,
   "metadata": {},
   "outputs": [
    {
     "name": "stdout",
     "output_type": "stream",
     "text": [
      "[[ 1.14265096e-11  1.14265096e-11  1.71397644e-11]\n",
      " [ 9.08257188e-12  9.08257188e-12  1.81651438e-11]\n",
      " [-9.08257188e-12 -9.08257188e-12 -1.81651438e-11]]\n"
     ]
    }
   ],
   "source": [
    "print(findAcceleration(N_body, r_vec, m_vec))"
   ]
  },
  {
   "cell_type": "code",
   "execution_count": 4,
   "metadata": {},
   "outputs": [
    {
     "name": "stdout",
     "output_type": "stream",
     "text": [
      "[[0.04 0.01 0.02]\n",
      " [1.06 1.02 1.03]\n",
      " [2.03 2.05 3.02]\n",
      " [4.   1.   2.  ]\n",
      " [6.   2.   3.  ]\n",
      " [3.   5.   2.  ]]\n"
     ]
    }
   ],
   "source": [
    "print(f_true(r_vec, v_vec, m_vec, delta_t = 0.01))"
   ]
  },
  {
   "cell_type": "code",
   "execution_count": null,
   "metadata": {},
   "outputs": [],
   "source": []
  }
 ],
 "metadata": {
  "kernelspec": {
   "display_name": "Python 3",
   "language": "python",
   "name": "python3"
  },
  "language_info": {
   "codemirror_mode": {
    "name": "ipython",
    "version": 3
   },
   "file_extension": ".py",
   "mimetype": "text/x-python",
   "name": "python",
   "nbconvert_exporter": "python",
   "pygments_lexer": "ipython3",
   "version": "3.8.5"
  }
 },
 "nbformat": 4,
 "nbformat_minor": 4
}
