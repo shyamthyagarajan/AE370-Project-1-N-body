{
 "cells": [
  {
   "cell_type": "code",
   "execution_count": 1,
   "metadata": {},
   "outputs": [],
   "source": [
    "import numpy as np\n",
    "import matplotlib.pyplot as plt\n",
    "\n",
    "G = 6.6743E-11"
   ]
  },
  {
   "cell_type": "code",
   "execution_count": 2,
   "metadata": {},
   "outputs": [],
   "source": [
    "def findAcceleration(N, r, m):\n",
    "    a = np.zeros((N, 3))\n",
    "    for i in range(len(m)):\n",
    "        for j in range(N):\n",
    "            if (i != j):\n",
    "                a[i] = G*m[i]*m[j]*(r[j] - r[i]) / np.linalg.norm(r[j] - r[i])**3\n",
    "    return a\n",
    "\n",
    "# def getDistance(x_body1, x_body2):\n",
    "#     for () in x:\n",
    "        \n",
    "#     return abs(y - x)\n",
    "\n",
    "def f_true(r, v, m, t, delta_t):\n",
    "    N = 3\n",
    "    acceleration_vec = findAcceleration(N, r, m)\n",
    "    u_dot_r = v\n",
    "    u_dot_v = acceleration_vec\n",
    "    return u_dot_r, u_dot_v\n",
    "\n",
    "def RK4(r, v, m, t, delta_t):\n",
    "    k1_r, k1_v = f_true(r, v, m, t, delta_t)\n",
    "    k2_r, k2_v = f_true(r + 0.5*delta_t*k1_r, v + 0.5*delta_t*k1_v, m, t + 0.5*delta_t, delta_t)\n",
    "    k3_r, k3_v = f_true(r + 0.5*delta_t*k2_r, v + 0.5*delta_t*k2_v, m, t + 0.5*delta_t, delta_t)\n",
    "    k4_r, k4_v = f_true(r + delta_t*k3_r, v + delta_t*k3_v, m, t + delta_t, delta_t)\n",
    "    return r + (delta_t / 6) * (k1_r + 2*k2_r + 2*k3_r + k4_r), v + (delta_t / 6) * (k1_v + 2*k2_v + 2*k3_v + k4_v)\n",
    "\n",
    "m_vec = np.array([1.9891*10**30, 6.39*10**23, 10.6*10**15])      # sun, mars, phobos\n",
    "\n",
    "x_sun = np.array([0, 0, 0])\n",
    "x_mars = np.array([-1.452225829003665E+08, 1.982282617940946E+08, 7.716734755059928E+06])\n",
    "x_phobos = np.array([-1.452162997749086E+08, 1.982346674348103E+08, 7.713809702492163E+06])\n",
    "x_vec = np.array([x_sun, x_mars, x_phobos])\n",
    "\n",
    "v_sun = np.array([0, 0, 0])\n",
    "v_mars = np.array([-1.863015592458860E+01,-1.225724886921267E+01, 2.001015393882497E-01])\n",
    "v_phobos = np.array([-1.989472584067270E+01, -1.072067660202062E+01, 9.414140308600949E-01])\n",
    "v_vec = np.array([v_sun, v_mars, v_phobos])   \n",
    "                                 \n",
    "N_body = 3"
   ]
  },
  {
   "cell_type": "code",
   "execution_count": 3,
   "metadata": {},
   "outputs": [
    {
     "name": "stdout",
     "output_type": "stream",
     "text": [
      "[[-1.37515286e+19  1.87722019e+19  7.30473609e+17]\n",
      " [ 3.37925910e+21  3.44515159e+21 -1.57318369e+21]\n",
      " [-3.37925910e+21 -3.44515159e+21  1.57318369e+21]]\n"
     ]
    }
   ],
   "source": [
    "print(findAcceleration(N_body, x_vec, m_vec))"
   ]
  },
  {
   "cell_type": "code",
   "execution_count": 4,
   "metadata": {},
   "outputs": [
    {
     "name": "stdout",
     "output_type": "stream",
     "text": [
      "(array([[  0.        ,   0.        ,   0.        ],\n",
      "       [-18.63015592, -12.25724887,   0.20010154],\n",
      "       [-19.89472584, -10.7206766 ,   0.94141403]]), array([[-1.37515286e+19,  1.87722019e+19,  7.30473609e+17],\n",
      "       [ 3.37925910e+21,  3.44515159e+21, -1.57318369e+21],\n",
      "       [-3.37925910e+21, -3.44515159e+21,  1.57318369e+21]]))\n",
      "(array([[-4.58384287e+16,  6.25740061e+16,  2.43491203e+15],\n",
      "       [ 1.12641429e+19,  1.14839101e+19, -5.24391361e+18],\n",
      "       [-1.12641429e+19, -1.14839101e+19,  5.24391361e+18]]), array([[-6.87576431e+17,  9.38610091e+17,  3.65236805e+16],\n",
      "       [ 1.68961873e+20,  1.72259009e+20, -7.86585441e+19],\n",
      "       [-1.68961873e+20, -1.72259009e+20,  7.86585441e+19]]))\n"
     ]
    }
   ],
   "source": [
    "print(f_true(x_vec, v_vec, m_vec, t = 10, delta_t = 0.1))\n",
    "\n",
    "print(RK4(x_vec, v_vec, m_vec, t = 10, delta_t = 0.1))"
   ]
  },
  {
   "cell_type": "code",
   "execution_count": null,
   "metadata": {},
   "outputs": [],
   "source": [
    "fig = plt.figure(figsize=(4,4))\n",
    "for t in range(0, 30000000, 3000000):\n",
    "  r_new, v_new = RK4(x_vec, v_vec, m_vec, t, delta_t = 3000000)\n",
    "  ax = fig.add_subplot(111, projection='3d')\n",
    "  ax.scatter(r_new[0], r_new[1], r_new[2])\n",
    "  print(r_new)\n",
    "plt.show()"
   ]
  }
 ],
 "metadata": {
  "kernelspec": {
   "display_name": "Python 3",
   "language": "python",
   "name": "python3"
  },
  "language_info": {
   "codemirror_mode": {
    "name": "ipython",
    "version": 3
   },
   "file_extension": ".py",
   "mimetype": "text/x-python",
   "name": "python",
   "nbconvert_exporter": "python",
   "pygments_lexer": "ipython3",
   "version": "3.8.5"
  }
 },
 "nbformat": 4,
 "nbformat_minor": 4
}
